{
 "cells": [
  {
   "cell_type": "markdown",
   "source": [
    "# Predicting car insurance sales\n",
    "> A notebook exploring a car insurance quote dataset to build a predicitive model to classify offered quotes as purchased or not purchased.\n",
    "\n",
    "- toc: true \n",
    "- badges: false\n",
    "- comments: true\n",
    "- categories: [classification]\n",
    "- image: images/classification2.png\n",
    "- author: Aidan Hood"
   ],
   "metadata": {}
  },
  {
   "cell_type": "markdown",
   "source": [
    "## Summary\n"
   ],
   "metadata": {}
  },
  {
   "cell_type": "markdown",
   "source": [
    "## Libraries"
   ],
   "metadata": {}
  },
  {
   "cell_type": "code",
   "execution_count": 14,
   "source": [
    "#collapse-hide\n",
    "import numpy as np\n",
    "import pandas as pd\n",
    "import sklearn as sk\n",
    "from sklearn import preprocessing\n",
    "import matplotlib.pyplot as plt\n",
    "import seaborn as sns\n",
    "from sklearn.model_selection import train_test_split\n",
    "from sklearn.preprocessing import StandardScaler\n",
    "from sklearn import linear_model\n",
    "from sklearn import naive_bayes\n",
    "from sklearn import neighbors\n",
    "from sklearn import tree\n",
    "from sklearn import ensemble\n",
    "from sklearn import svm\n",
    "from sklearn.model_selection import KFold\n",
    "from sklearn.model_selection import cross_val_score\n",
    "import warnings\n",
    "from sklearn import metrics\n",
    "from sklearn.model_selection import GridSearchCV\n",
    "warnings.filterwarnings(action='ignore')\n",
    "pd.set_option(\"max_columns\", 25)"
   ],
   "outputs": [],
   "metadata": {}
  },
  {
   "cell_type": "markdown",
   "source": [
    "## Data input and exploration"
   ],
   "metadata": {}
  },
  {
   "cell_type": "code",
   "execution_count": 15,
   "source": [
    "df = pd.read_csv(\"./insurance_quotes.csv\")\n",
    "\n",
    "df.head()"
   ],
   "outputs": [
    {
     "output_type": "execute_result",
     "data": {
      "text/plain": [
       "   Driver_Age  Vehicle_Value        Tax       Price  Vehicle_Mileage  \\\n",
       "0        48.0         7000.0  41.961971  419.619709           7000.0   \n",
       "1        32.0         8000.0  53.448931  534.489312           6000.0   \n",
       "2        32.0         7000.0  48.042838  480.428376           6000.0   \n",
       "3        32.0        10000.0  38.572157  385.721570           7000.0   \n",
       "4        28.0         9000.0  33.317349  333.173490           5000.0   \n",
       "\n",
       "   Credit_Score  Licence_Length_Years        Date Marital_Status  Sale  \n",
       "0    366.105677              8.711803  29/05/2020              M     0  \n",
       "1    306.560408              8.754815  03/07/2019              S     0  \n",
       "2    430.070380              6.942515  04/10/2019              M     0  \n",
       "3    493.840343              9.165431  22/09/2020              S     0  \n",
       "4    416.459533              6.810972  08/09/2019              M     0  "
      ],
      "text/html": [
       "<div>\n",
       "<style scoped>\n",
       "    .dataframe tbody tr th:only-of-type {\n",
       "        vertical-align: middle;\n",
       "    }\n",
       "\n",
       "    .dataframe tbody tr th {\n",
       "        vertical-align: top;\n",
       "    }\n",
       "\n",
       "    .dataframe thead th {\n",
       "        text-align: right;\n",
       "    }\n",
       "</style>\n",
       "<table border=\"1\" class=\"dataframe\">\n",
       "  <thead>\n",
       "    <tr style=\"text-align: right;\">\n",
       "      <th></th>\n",
       "      <th>Driver_Age</th>\n",
       "      <th>Vehicle_Value</th>\n",
       "      <th>Tax</th>\n",
       "      <th>Price</th>\n",
       "      <th>Vehicle_Mileage</th>\n",
       "      <th>Credit_Score</th>\n",
       "      <th>Licence_Length_Years</th>\n",
       "      <th>Date</th>\n",
       "      <th>Marital_Status</th>\n",
       "      <th>Sale</th>\n",
       "    </tr>\n",
       "  </thead>\n",
       "  <tbody>\n",
       "    <tr>\n",
       "      <th>0</th>\n",
       "      <td>48.0</td>\n",
       "      <td>7000.0</td>\n",
       "      <td>41.961971</td>\n",
       "      <td>419.619709</td>\n",
       "      <td>7000.0</td>\n",
       "      <td>366.105677</td>\n",
       "      <td>8.711803</td>\n",
       "      <td>29/05/2020</td>\n",
       "      <td>M</td>\n",
       "      <td>0</td>\n",
       "    </tr>\n",
       "    <tr>\n",
       "      <th>1</th>\n",
       "      <td>32.0</td>\n",
       "      <td>8000.0</td>\n",
       "      <td>53.448931</td>\n",
       "      <td>534.489312</td>\n",
       "      <td>6000.0</td>\n",
       "      <td>306.560408</td>\n",
       "      <td>8.754815</td>\n",
       "      <td>03/07/2019</td>\n",
       "      <td>S</td>\n",
       "      <td>0</td>\n",
       "    </tr>\n",
       "    <tr>\n",
       "      <th>2</th>\n",
       "      <td>32.0</td>\n",
       "      <td>7000.0</td>\n",
       "      <td>48.042838</td>\n",
       "      <td>480.428376</td>\n",
       "      <td>6000.0</td>\n",
       "      <td>430.070380</td>\n",
       "      <td>6.942515</td>\n",
       "      <td>04/10/2019</td>\n",
       "      <td>M</td>\n",
       "      <td>0</td>\n",
       "    </tr>\n",
       "    <tr>\n",
       "      <th>3</th>\n",
       "      <td>32.0</td>\n",
       "      <td>10000.0</td>\n",
       "      <td>38.572157</td>\n",
       "      <td>385.721570</td>\n",
       "      <td>7000.0</td>\n",
       "      <td>493.840343</td>\n",
       "      <td>9.165431</td>\n",
       "      <td>22/09/2020</td>\n",
       "      <td>S</td>\n",
       "      <td>0</td>\n",
       "    </tr>\n",
       "    <tr>\n",
       "      <th>4</th>\n",
       "      <td>28.0</td>\n",
       "      <td>9000.0</td>\n",
       "      <td>33.317349</td>\n",
       "      <td>333.173490</td>\n",
       "      <td>5000.0</td>\n",
       "      <td>416.459533</td>\n",
       "      <td>6.810972</td>\n",
       "      <td>08/09/2019</td>\n",
       "      <td>M</td>\n",
       "      <td>0</td>\n",
       "    </tr>\n",
       "  </tbody>\n",
       "</table>\n",
       "</div>"
      ]
     },
     "metadata": {},
     "execution_count": 15
    }
   ],
   "metadata": {}
  },
  {
   "cell_type": "code",
   "execution_count": 16,
   "source": [
    "df.info()"
   ],
   "outputs": [
    {
     "output_type": "stream",
     "name": "stdout",
     "text": [
      "<class 'pandas.core.frame.DataFrame'>\n",
      "RangeIndex: 50000 entries, 0 to 49999\n",
      "Data columns (total 10 columns):\n",
      " #   Column                Non-Null Count  Dtype  \n",
      "---  ------                --------------  -----  \n",
      " 0   Driver_Age            49506 non-null  float64\n",
      " 1   Vehicle_Value         49491 non-null  float64\n",
      " 2   Tax                   49519 non-null  float64\n",
      " 3   Price                 49504 non-null  float64\n",
      " 4   Vehicle_Mileage       49464 non-null  float64\n",
      " 5   Credit_Score          49478 non-null  float64\n",
      " 6   Licence_Length_Years  49508 non-null  float64\n",
      " 7   Date                  50000 non-null  object \n",
      " 8   Marital_Status        49512 non-null  object \n",
      " 9   Sale                  50000 non-null  int64  \n",
      "dtypes: float64(7), int64(1), object(2)\n",
      "memory usage: 3.8+ MB\n"
     ]
    }
   ],
   "metadata": {}
  },
  {
   "cell_type": "code",
   "execution_count": 17,
   "source": [
    "df.hist(figsize=(30,20))\n",
    "plt.show()"
   ],
   "outputs": [
    {
     "output_type": "display_data",
     "data": {
      "text/plain": [
       "<Figure size 2160x1440 with 9 Axes>"
      ],
      "image/png": "[encoded data removed]"
     },
     "metadata": {
      "needs_background": "light"
     }
    }
   ],
   "metadata": {}
  },
  {
   "cell_type": "code",
   "execution_count": 18,
   "source": [
    "df['Marital_Status'].value_counts().plot(kind='bar')"
   ],
   "outputs": [
    {
     "output_type": "execute_result",
     "data": {
      "text/plain": [
       "<AxesSubplot:>"
      ]
     },
     "metadata": {},
     "execution_count": 18
    },
    {
     "output_type": "display_data",
     "data": {
      "text/plain": [
       "<Figure size 432x288 with 1 Axes>"
      ],
      "image/png": "[encoded data removed]"
     },
     "metadata": {
      "needs_background": "light"
     }
    }
   ],
   "metadata": {}
  },
  {
   "cell_type": "markdown",
   "source": [
    "## Data Cleaning"
   ],
   "metadata": {}
  },
  {
   "cell_type": "markdown",
   "source": [
    "## Feature Engineering"
   ],
   "metadata": {}
  },
  {
   "cell_type": "markdown",
   "source": [
    "## Removing Correlated Features"
   ],
   "metadata": {}
  },
  {
   "cell_type": "code",
   "execution_count": 19,
   "source": [
    "corr_features =[]\n",
    "\n",
    "for i , r in df.corr().iterrows():\n",
    "    k=0\n",
    "    for j in range(len(r)):\n",
    "        if i!= r.index[k]:\n",
    "            if r.values[k] >=0.5:\n",
    "                corr_features.append([i, r.index[k], r.values[k]])\n",
    "        k += 1\n",
    "\n",
    "feat =[]\n",
    "for i in corr_features:\n",
    "    if i[2] >= 0.8:\n",
    "        feat.append(i[0])\n",
    "        feat.append(i[1])\n",
    "\n",
    "df.drop(list(set(feat)), axis=1, inplace=True)"
   ],
   "outputs": [],
   "metadata": {}
  },
  {
   "cell_type": "code",
   "execution_count": 20,
   "source": [
    "df.corr()"
   ],
   "outputs": [
    {
     "output_type": "execute_result",
     "data": {
      "text/plain": [
       "                      Driver_Age  Vehicle_Value       Tax     Price  \\\n",
       "Driver_Age              1.000000      -0.056902 -0.054444 -0.073941   \n",
       "Vehicle_Value          -0.056902       1.000000  0.356252  0.012098   \n",
       "Tax                    -0.054444       0.356252  1.000000  0.741878   \n",
       "Price                  -0.073941       0.012098  0.741878  1.000000   \n",
       "Vehicle_Mileage        -0.038755      -0.076091  0.102390  0.145926   \n",
       "Credit_Score           -0.000212       0.006683  0.006277  0.001508   \n",
       "Licence_Length_Years    0.684834      -0.038003 -0.026797 -0.031432   \n",
       "Sale                   -0.252439       0.003295  0.448177  0.664755   \n",
       "\n",
       "                      Vehicle_Mileage  Credit_Score  Licence_Length_Years  \\\n",
       "Driver_Age                  -0.038755     -0.000212              0.684834   \n",
       "Vehicle_Value               -0.076091      0.006683             -0.038003   \n",
       "Tax                          0.102390      0.006277             -0.026797   \n",
       "Price                        0.145926      0.001508             -0.031432   \n",
       "Vehicle_Mileage              1.000000     -0.002890             -0.025058   \n",
       "Credit_Score                -0.002890      1.000000             -0.003690   \n",
       "Licence_Length_Years        -0.025058     -0.003690              1.000000   \n",
       "Sale                         0.003381     -0.001618             -0.118463   \n",
       "\n",
       "                          Sale  \n",
       "Driver_Age           -0.252439  \n",
       "Vehicle_Value         0.003295  \n",
       "Tax                   0.448177  \n",
       "Price                 0.664755  \n",
       "Vehicle_Mileage       0.003381  \n",
       "Credit_Score         -0.001618  \n",
       "Licence_Length_Years -0.118463  \n",
       "Sale                  1.000000  "
      ],
      "text/html": [
       "<div>\n",
       "<style scoped>\n",
       "    .dataframe tbody tr th:only-of-type {\n",
       "        vertical-align: middle;\n",
       "    }\n",
       "\n",
       "    .dataframe tbody tr th {\n",
       "        vertical-align: top;\n",
       "    }\n",
       "\n",
       "    .dataframe thead th {\n",
       "        text-align: right;\n",
       "    }\n",
       "</style>\n",
       "<table border=\"1\" class=\"dataframe\">\n",
       "  <thead>\n",
       "    <tr style=\"text-align: right;\">\n",
       "      <th></th>\n",
       "      <th>Driver_Age</th>\n",
       "      <th>Vehicle_Value</th>\n",
       "      <th>Tax</th>\n",
       "      <th>Price</th>\n",
       "      <th>Vehicle_Mileage</th>\n",
       "      <th>Credit_Score</th>\n",
       "      <th>Licence_Length_Years</th>\n",
       "      <th>Sale</th>\n",
       "    </tr>\n",
       "  </thead>\n",
       "  <tbody>\n",
       "    <tr>\n",
       "      <th>Driver_Age</th>\n",
       "      <td>1.000000</td>\n",
       "      <td>-0.056902</td>\n",
       "      <td>-0.054444</td>\n",
       "      <td>-0.073941</td>\n",
       "      <td>-0.038755</td>\n",
       "      <td>-0.000212</td>\n",
       "      <td>0.684834</td>\n",
       "      <td>-0.252439</td>\n",
       "    </tr>\n",
       "    <tr>\n",
       "      <th>Vehicle_Value</th>\n",
       "      <td>-0.056902</td>\n",
       "      <td>1.000000</td>\n",
       "      <td>0.356252</td>\n",
       "      <td>0.012098</td>\n",
       "      <td>-0.076091</td>\n",
       "      <td>0.006683</td>\n",
       "      <td>-0.038003</td>\n",
       "      <td>0.003295</td>\n",
       "    </tr>\n",
       "    <tr>\n",
       "      <th>Tax</th>\n",
       "      <td>-0.054444</td>\n",
       "      <td>0.356252</td>\n",
       "      <td>1.000000</td>\n",
       "      <td>0.741878</td>\n",
       "      <td>0.102390</td>\n",
       "      <td>0.006277</td>\n",
       "      <td>-0.026797</td>\n",
       "      <td>0.448177</td>\n",
       "    </tr>\n",
       "    <tr>\n",
       "      <th>Price</th>\n",
       "      <td>-0.073941</td>\n",
       "      <td>0.012098</td>\n",
       "      <td>0.741878</td>\n",
       "      <td>1.000000</td>\n",
       "      <td>0.145926</td>\n",
       "      <td>0.001508</td>\n",
       "      <td>-0.031432</td>\n",
       "      <td>0.664755</td>\n",
       "    </tr>\n",
       "    <tr>\n",
       "      <th>Vehicle_Mileage</th>\n",
       "      <td>-0.038755</td>\n",
       "      <td>-0.076091</td>\n",
       "      <td>0.102390</td>\n",
       "      <td>0.145926</td>\n",
       "      <td>1.000000</td>\n",
       "      <td>-0.002890</td>\n",
       "      <td>-0.025058</td>\n",
       "      <td>0.003381</td>\n",
       "    </tr>\n",
       "    <tr>\n",
       "      <th>Credit_Score</th>\n",
       "      <td>-0.000212</td>\n",
       "      <td>0.006683</td>\n",
       "      <td>0.006277</td>\n",
       "      <td>0.001508</td>\n",
       "      <td>-0.002890</td>\n",
       "      <td>1.000000</td>\n",
       "      <td>-0.003690</td>\n",
       "      <td>-0.001618</td>\n",
       "    </tr>\n",
       "    <tr>\n",
       "      <th>Licence_Length_Years</th>\n",
       "      <td>0.684834</td>\n",
       "      <td>-0.038003</td>\n",
       "      <td>-0.026797</td>\n",
       "      <td>-0.031432</td>\n",
       "      <td>-0.025058</td>\n",
       "      <td>-0.003690</td>\n",
       "      <td>1.000000</td>\n",
       "      <td>-0.118463</td>\n",
       "    </tr>\n",
       "    <tr>\n",
       "      <th>Sale</th>\n",
       "      <td>-0.252439</td>\n",
       "      <td>0.003295</td>\n",
       "      <td>0.448177</td>\n",
       "      <td>0.664755</td>\n",
       "      <td>0.003381</td>\n",
       "      <td>-0.001618</td>\n",
       "      <td>-0.118463</td>\n",
       "      <td>1.000000</td>\n",
       "    </tr>\n",
       "  </tbody>\n",
       "</table>\n",
       "</div>"
      ]
     },
     "metadata": {},
     "execution_count": 20
    }
   ],
   "metadata": {}
  },
  {
   "cell_type": "markdown",
   "source": [
    "## Preparing Test and Train Sets"
   ],
   "metadata": {}
  },
  {
   "cell_type": "markdown",
   "source": [
    "## Dealing With Class Imbalance"
   ],
   "metadata": {}
  },
  {
   "cell_type": "markdown",
   "source": [
    "## Dealing With Categorical Variables"
   ],
   "metadata": {}
  },
  {
   "cell_type": "markdown",
   "source": [
    "## Normalization"
   ],
   "metadata": {}
  },
  {
   "cell_type": "markdown",
   "source": [
    "## Model Selection"
   ],
   "metadata": {}
  },
  {
   "cell_type": "markdown",
   "source": [
    "## Hyperparameter Tuning"
   ],
   "metadata": {}
  },
  {
   "cell_type": "markdown",
   "source": [
    "## Model Implementation"
   ],
   "metadata": {}
  },
  {
   "cell_type": "markdown",
   "source": [
    "## Model Evaluation"
   ],
   "metadata": {}
  }
 ],
 "metadata": {
  "orig_nbformat": 4,
  "language_info": {
   "name": "python",
   "version": "3.8.6",
   "mimetype": "text/x-python",
   "codemirror_mode": {
    "name": "ipython",
    "version": 3
   },
   "pygments_lexer": "ipython3",
   "nbconvert_exporter": "python",
   "file_extension": ".py"
  },
  "kernelspec": {
   "name": "python3",
   "display_name": "Python 3.8.6 64-bit"
  },
  "interpreter": {
   "hash": "aee8b7b246df8f9039afb4144a1f6fd8d2ca17a180786b69acc140d282b71a49"
  }
 },
 "nbformat": 4,
 "nbformat_minor": 2
}