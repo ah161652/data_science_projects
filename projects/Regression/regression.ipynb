{
 "metadata": {
  "language_info": {
   "codemirror_mode": {
    "name": "ipython",
    "version": 3
   },
   "file_extension": ".py",
   "mimetype": "text/x-python",
   "name": "python",
   "nbconvert_exporter": "python",
   "pygments_lexer": "ipython3",
   "version": 3
  },
  "orig_nbformat": 2
 },
 "nbformat": 4,
 "nbformat_minor": 2,
 "cells": [
  {
   "source": [
    "### Regression to predict house prices\n",
    "The aim of this project is to experiment with data manipulation of a house dataset, and applying various regression models to the manipulated data in order to build an accurate regression model.\n",
    "\n",
    "The contents of this project is:\n",
    "- Reading in, cleaning and visualing the dataset\n",
    "- Creating a new 'age' feature\n",
    "- Removing highly correlated features\n",
    "- Removing outliers\n",
    "- Train/Test Splitting\n",
    "- One hot encoding categorical features\n",
    "- Scaling the data\n",
    "- Testing each regression model via a vlaidation set to determine the optimal model to take forward\n",
    "- Hyperparemter tuning on the optimal model\n",
    "- Utilising the tuned optimal model to make predicitions\n",
    "- Plot regression against all features in order to visualise correlations"
   ],
   "cell_type": "markdown",
   "metadata": {}
  }
 ]
}