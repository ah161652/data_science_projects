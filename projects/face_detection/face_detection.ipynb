{
 "cells": [
  {
   "cell_type": "code",
   "execution_count": 1,
   "metadata": {},
   "outputs": [],
   "source": [
    "import face_recognition\n",
    "from PIL import Image\n",
    "import os\n",
    "import glob"
   ]
  },
  {
   "cell_type": "code",
   "execution_count": 2,
   "metadata": {},
   "outputs": [],
   "source": [
    "# Setup face lists\n",
    "\n",
    "list_of_files = []\n",
    "for (dirpath, dirnames, filenames) in os.walk(\"./faces/all\"):\n",
    "    list_of_files.extend(filenames)\n",
    "\n",
    "path = \"/Users/ahood/Code/data_science_projects/projects/face_detection/faces/all/\"\n",
    "list_of_files = [path + x for x in list_of_files]\n",
    "try:\n",
    "    list_of_files.remove(\"/Users/ahood/Code/data_science_projects/projects/face_detection/faces/all/.DS_Store\")\n",
    "except:\n",
    "    None\n",
    "\n",
    "\n",
    "number_files = len(list_of_files)\n",
    "names = list_of_files.copy()\n",
    "\n",
    "unknown_faces = []\n",
    "for x in list_of_files:\n",
    "    unknown_faces.append(face_recognition.load_image_file(x))\n",
    "    "
   ]
  },
  {
   "cell_type": "code",
   "execution_count": 3,
   "metadata": {},
   "outputs": [
    {
     "name": "stdout",
     "output_type": "stream",
     "text": [
      "Detection rate: 166/166\n"
     ]
    }
   ],
   "source": [
    "# Detecting faces\n",
    "\n",
    "face_locations = []\n",
    "number_of_faces = []\n",
    "top_pixels = []\n",
    "bottom_pixels = []\n",
    "right_pixels = []\n",
    "left_pixels = []\n",
    "face_images = []\n",
    "pil_images = []\n",
    "\n",
    "for f in unknown_faces:\n",
    "\n",
    "    image = f\n",
    "    face_locations_local = face_recognition.face_locations(image)\n",
    "    face_locations.append(face_locations_local)\n",
    "    number_of_faces_local = len(face_locations_local)\n",
    "    number_of_faces.append(number_of_faces_local)\n",
    "\n",
    "    for x in face_locations_local:\n",
    "        top_local, right_local, bottom_local, left_local = x\n",
    "        top_pixels.append(top_local)\n",
    "        right_pixels.append(right_local)\n",
    "        bottom_pixels.append(bottom_local)\n",
    "        left_pixels.append(left_local)\n",
    "    \n",
    "    face_image_local = image[top_local:bottom_local, left_local:right_local]\n",
    "    face_images.append(face_image_local)\n",
    "    pil_image_local = Image.fromarray(face_image_local)\n",
    "    pil_images.append(pil_image_local)\n",
    "\n",
    "\n",
    "for i in range(10):\n",
    "    pil_images[i].show()\n",
    "\n",
    "print(\"Detection rate: \" + str(len(pil_images)) + \"/\" +  str(number_files) )\n",
    "\n"
   ]
  },
  {
   "cell_type": "code",
   "execution_count": 4,
   "metadata": {},
   "outputs": [],
   "source": [
    "# OpenCV Face Detection\n",
    "import cv2\n",
    "\n",
    "face_cascade = cv2.CascadeClassifier('/Users/ahood/Code/data_science_projects/projects/face_detection/openCV/alt_cascade.xml')\n",
    "\n",
    "openCV_images = []\n",
    "\n",
    "list_of_files = []\n",
    "for (dirpath, dirnames, filenames) in os.walk(\"./openCV/openCV_faces\"):\n",
    "    list_of_files.extend(filenames)\n",
    "\n",
    "path = \"/Users/ahood/Code/data_science_projects/projects/face_detection/openCV/openCV_faces/\"\n",
    "list_of_files = [path + x for x in list_of_files]\n",
    "try:\n",
    "    list_of_files.remove(\"//Users/ahood/Code/data_science_projects/projects/face_detection/openCV/openCV_faces/.DS_Store\")\n",
    "except:\n",
    "    None\n",
    "\n",
    "\n",
    "number_files = len(list_of_files)\n",
    "names = list_of_files.copy()\n",
    "\n",
    "for f in list_of_files:\n",
    "    img = cv2.imread(f)\n",
    "    openCV_images.append(img)\n",
    "\n",
    "for f in openCV_images:\n",
    "    faces = face_cascade.detectMultiScale(f, 1.1, 4)\n",
    "\n",
    "    for (x, y, w, h) in faces:\n",
    "        cv2.rectangle(f, (x, y), (x+w, y+h), (255, 0, 0), 2)\n",
    "    \n",
    "    cv2.imshow('img', f)\n",
    "    cv2.waitKey()\n",
    "\n"
   ]
  }
 ],
 "metadata": {
  "interpreter": {
   "hash": "aee8b7b246df8f9039afb4144a1f6fd8d2ca17a180786b69acc140d282b71a49"
  },
  "kernelspec": {
   "display_name": "Python 3.8.6 64-bit",
   "name": "python3"
  },
  "language_info": {
   "codemirror_mode": {
    "name": "ipython",
    "version": 3
   },
   "file_extension": ".py",
   "mimetype": "text/x-python",
   "name": "python",
   "nbconvert_exporter": "python",
   "pygments_lexer": "ipython3",
   "version": "3.8.6"
  },
  "orig_nbformat": 4
 },
 "nbformat": 4,
 "nbformat_minor": 2
}
