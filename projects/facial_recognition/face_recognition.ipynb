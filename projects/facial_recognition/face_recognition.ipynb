{
 "cells": [
  {
   "cell_type": "code",
   "execution_count": 36,
   "source": [
    "import face_recognition\n",
    "from PIL import Image\n",
    "import os\n",
    "import glob"
   ],
   "outputs": [],
   "metadata": {}
  },
  {
   "cell_type": "code",
   "execution_count": 37,
   "source": [
    "face_1 = face_recognition.load_image_file(\"./faces/1/subject01 5.png\")\n",
    "face_2 = face_recognition.load_image_file(\"./faces/2/subject02 11.PNG\")\n",
    "face_3 = face_recognition.load_image_file(\"./faces/3/subject03 4.png\")\n",
    "face_4 = face_recognition.load_image_file(\"./faces/4/subject04 4.png\")\n",
    "face_5 = face_recognition.load_image_file(\"./faces/5/subject05 4.png\")\n",
    "face_6 = face_recognition.load_image_file(\"./faces/6/subject06 4.png\")\n",
    "face_7 = face_recognition.load_image_file(\"./faces/7/subject07 4.png\")\n",
    "face_8 = face_recognition.load_image_file(\"./faces/8/subject08 4.png\")\n",
    "face_9 = face_recognition.load_image_file(\"./faces/9/subject09 4.png\")\n",
    "face_10 = face_recognition.load_image_file(\"./faces/10/subject10 4.png\")\n",
    "face_11 = face_recognition.load_image_file(\"./faces/11/subject11 4.png\")\n",
    "face_12 = face_recognition.load_image_file(\"./faces/12/subject12 4.png\")\n",
    "face_13 = face_recognition.load_image_file(\"./faces/13/subject13 4.png\")\n",
    "face_14 = face_recognition.load_image_file(\"./faces/14/subject14 4.png\")\n",
    "face_15 = face_recognition.load_image_file(\"./faces/15/subject15 4.png\")\n",
    "\n",
    "\n",
    "list_of_files = []\n",
    "for (dirpath, dirnames, filenames) in os.walk(\"./faces/all\"):\n",
    "    list_of_files.extend(filenames)\n",
    "\n",
    "path = \"/Users/ahood/Code/data_science_projects/projects/facial_recognition/faces/all/\"\n",
    "list_of_files = [path + x for x in list_of_files]\n",
    "\n",
    "\n",
    "number_files = len(list_of_files)\n",
    "names = list_of_files.copy()\n",
    "\n",
    "print(number_files)\n",
    "print(names)\n",
    "\n"
   ],
   "outputs": [
    {
     "output_type": "stream",
     "name": "stdout",
     "text": [
      "166\n",
      "['/Users/ahood/Code/data_science_projects/projects/facial_recognition/faces/all/subject03 10.PNG', '/Users/ahood/Code/data_science_projects/projects/facial_recognition/faces/all/subject02 5.PNG', '/Users/ahood/Code/data_science_projects/projects/facial_recognition/faces/all/subject11 10.PNG', '/Users/ahood/Code/data_science_projects/projects/facial_recognition/faces/all/subject04 3.PNG', '/Users/ahood/Code/data_science_projects/projects/facial_recognition/faces/all/subject04 2.PNG', '/Users/ahood/Code/data_science_projects/projects/facial_recognition/faces/all/subject11 11.PNG', '/Users/ahood/Code/data_science_projects/projects/facial_recognition/faces/all/subject02 4.PNG', '/Users/ahood/Code/data_science_projects/projects/facial_recognition/faces/all/subject03 11.PNG', '/Users/ahood/Code/data_science_projects/projects/facial_recognition/faces/all/subject02 6.PNG', '/Users/ahood/Code/data_science_projects/projects/facial_recognition/faces/all/subject15 8.PNG', '/Users/ahood/Code/data_science_projects/projects/facial_recognition/faces/all/subject06 2.PNG', '/Users/ahood/Code/data_science_projects/projects/facial_recognition/faces/all/subject06 3.PNG', '/Users/ahood/Code/data_science_projects/projects/facial_recognition/faces/all/subject15 9.PNG', '/Users/ahood/Code/data_science_projects/projects/facial_recognition/faces/all/subject02 7.PNG', '/Users/ahood/Code/data_science_projects/projects/facial_recognition/faces/all/subject02 3.PNG', '/Users/ahood/Code/data_science_projects/projects/facial_recognition/faces/all/subject11 9.PNG', '/Users/ahood/Code/data_science_projects/projects/facial_recognition/faces/all/subject08 8.PNG', '/Users/ahood/Code/data_science_projects/projects/facial_recognition/faces/all/subject06 7.PNG', '/Users/ahood/Code/data_science_projects/projects/facial_recognition/faces/all/subject04 5.PNG', '/Users/ahood/Code/data_science_projects/projects/facial_recognition/faces/all/subject01 12.PNG', '/Users/ahood/Code/data_science_projects/projects/facial_recognition/faces/all/subject04 4.PNG', '/Users/ahood/Code/data_science_projects/projects/facial_recognition/faces/all/subject06 6.PNG', '/Users/ahood/Code/data_science_projects/projects/facial_recognition/faces/all/subject08 9.PNG', '/Users/ahood/Code/data_science_projects/projects/facial_recognition/faces/all/subject11 8.PNG', '/Users/ahood/Code/data_science_projects/projects/facial_recognition/faces/all/subject02 2.PNG', '/Users/ahood/Code/data_science_projects/projects/facial_recognition/faces/all/subject13 8.PNG', '/Users/ahood/Code/data_science_projects/projects/facial_recognition/faces/all/subject13 10.PNG', '/Users/ahood/Code/data_science_projects/projects/facial_recognition/faces/all/subject06 4.PNG', '/Users/ahood/Code/data_science_projects/projects/facial_recognition/faces/all/subject04 6.PNG', '/Users/ahood/Code/data_science_projects/projects/facial_recognition/faces/all/subject01 10.PNG', '/Users/ahood/Code/data_science_projects/projects/facial_recognition/faces/all/subject01 11.PNG', '/Users/ahood/Code/data_science_projects/projects/facial_recognition/faces/all/subject04 7.PNG', '/Users/ahood/Code/data_science_projects/projects/facial_recognition/faces/all/subject06 5.PNG', '/Users/ahood/Code/data_science_projects/projects/facial_recognition/faces/all/subject13 11.PNG', '/Users/ahood/Code/data_science_projects/projects/facial_recognition/faces/all/subject13 9.PNG', '/Users/ahood/Code/data_science_projects/projects/facial_recognition/faces/all/subject14 8.PNG', '/Users/ahood/Code/data_science_projects/projects/facial_recognition/faces/all/subject07 2.PNG', '/Users/ahood/Code/data_science_projects/projects/facial_recognition/faces/all/subject01 4.PNG', '/Users/ahood/Code/data_science_projects/projects/facial_recognition/faces/all/subject03 6.PNG', '/Users/ahood/Code/data_science_projects/projects/facial_recognition/faces/all/subject03 7.PNG', '/Users/ahood/Code/data_science_projects/projects/facial_recognition/faces/all/subject01 5.PNG', '/Users/ahood/Code/data_science_projects/projects/facial_recognition/faces/all/subject07 3.PNG', '/Users/ahood/Code/data_science_projects/projects/facial_recognition/faces/all/subject14 9.PNG', '/Users/ahood/Code/data_science_projects/projects/facial_recognition/faces/all/subject05 3.PNG', '/Users/ahood/Code/data_science_projects/projects/facial_recognition/faces/all/subject09 11.PNG', '/Users/ahood/Code/data_science_projects/projects/facial_recognition/faces/all/subject05 11.PNG', '/Users/ahood/Code/data_science_projects/projects/facial_recognition/faces/all/subject01 7.PNG', '/Users/ahood/Code/data_science_projects/projects/facial_recognition/faces/all/subject03 5.PNG', '/Users/ahood/Code/data_science_projects/projects/facial_recognition/faces/all/subject03 4.PNG', '/Users/ahood/Code/data_science_projects/projects/facial_recognition/faces/all/subject01 6.PNG', '/Users/ahood/Code/data_science_projects/projects/facial_recognition/faces/all/subject05 10.PNG', '/Users/ahood/Code/data_science_projects/projects/facial_recognition/faces/all/subject09 10.PNG', '/Users/ahood/Code/data_science_projects/projects/facial_recognition/faces/all/subject05 2.PNG', '/Users/ahood/Code/data_science_projects/projects/facial_recognition/faces/all/subject05 6.PNG', '/Users/ahood/Code/data_science_projects/projects/facial_recognition/faces/all/subject07 4.PNG', '/Users/ahood/Code/data_science_projects/projects/facial_recognition/faces/all/subject07 11.PNG', '/Users/ahood/Code/data_science_projects/projects/facial_recognition/faces/all/subject12 8.PNG', '/Users/ahood/Code/data_science_projects/projects/facial_recognition/faces/all/subject01 2.PNG', '/Users/ahood/Code/data_science_projects/projects/facial_recognition/faces/all/subject15 11.PNG', '/Users/ahood/Code/data_science_projects/projects/facial_recognition/faces/all/subject15 10.PNG', '/Users/ahood/Code/data_science_projects/projects/facial_recognition/faces/all/subject01 3.PNG', '/Users/ahood/Code/data_science_projects/projects/facial_recognition/faces/all/subject12 9.PNG', '/Users/ahood/Code/data_science_projects/projects/facial_recognition/faces/all/subject07 10.PNG', '/Users/ahood/Code/data_science_projects/projects/facial_recognition/faces/all/subject07 5.PNG', '/Users/ahood/Code/data_science_projects/projects/facial_recognition/faces/all/subject05 7.PNG', '/Users/ahood/Code/data_science_projects/projects/facial_recognition/faces/all/subject08.PNG', '/Users/ahood/Code/data_science_projects/projects/facial_recognition/faces/all/subject05 5.PNG', '/Users/ahood/Code/data_science_projects/projects/facial_recognition/faces/all/subject09 8.PNG', '/Users/ahood/Code/data_science_projects/projects/facial_recognition/faces/all/subject07 7.PNG', '/Users/ahood/Code/data_science_projects/projects/facial_recognition/faces/all/subject03 3.PNG', '/Users/ahood/Code/data_science_projects/projects/facial_recognition/faces/all/subject10 9.PNG', '/Users/ahood/Code/data_science_projects/projects/facial_recognition/faces/all/subject10 8.PNG', '/Users/ahood/Code/data_science_projects/projects/facial_recognition/faces/all/subject03 2.PNG', '/Users/ahood/Code/data_science_projects/projects/facial_recognition/faces/all/subject07 6.PNG', '/Users/ahood/Code/data_science_projects/projects/facial_recognition/faces/all/subject09 9.PNG', '/Users/ahood/Code/data_science_projects/projects/facial_recognition/faces/all/subject05 4.PNG', '/Users/ahood/Code/data_science_projects/projects/facial_recognition/faces/all/subject09.PNG', '/Users/ahood/Code/data_science_projects/projects/facial_recognition/faces/all/subject10.PNG', '/Users/ahood/Code/data_science_projects/projects/facial_recognition/faces/all/subject04.PNG', '/Users/ahood/Code/data_science_projects/projects/facial_recognition/faces/all/subject05 9.PNG', '/Users/ahood/Code/data_science_projects/projects/facial_recognition/faces/all/subject09 4.PNG', '/Users/ahood/Code/data_science_projects/projects/facial_recognition/faces/all/subject12 7.PNG', '/Users/ahood/Code/data_science_projects/projects/facial_recognition/faces/all/subject10 5.PNG', '/Users/ahood/Code/data_science_projects/projects/facial_recognition/faces/all/subject10 4.PNG', '/Users/ahood/Code/data_science_projects/projects/facial_recognition/faces/all/subject12 6.PNG', '/Users/ahood/Code/data_science_projects/projects/facial_recognition/faces/all/subject09 5.PNG', '/Users/ahood/Code/data_science_projects/projects/facial_recognition/faces/all/subject05 8.PNG', '/Users/ahood/Code/data_science_projects/projects/facial_recognition/faces/all/subject05.PNG', '/Users/ahood/Code/data_science_projects/projects/facial_recognition/faces/all/subject11.PNG', '/Users/ahood/Code/data_science_projects/projects/facial_recognition/faces/all/subject07.PNG', '/Users/ahood/Code/data_science_projects/projects/facial_recognition/faces/all/subject13.PNG', '/Users/ahood/Code/data_science_projects/projects/facial_recognition/faces/all/subject10 11.PNG', '/Users/ahood/Code/data_science_projects/projects/facial_recognition/faces/all/subject09 7.PNG', '/Users/ahood/Code/data_science_projects/projects/facial_recognition/faces/all/subject14 2.PNG', '/Users/ahood/Code/data_science_projects/projects/facial_recognition/faces/all/subject07 8.PNG', '/Users/ahood/Code/data_science_projects/projects/facial_recognition/faces/all/subject12 4.PNG', '/Users/ahood/Code/data_science_projects/projects/facial_recognition/faces/all/subject02 11.PNG', '/Users/ahood/Code/data_science_projects/projects/facial_recognition/faces/all/subject10 6.PNG', '/Users/ahood/Code/data_science_projects/projects/facial_recognition/faces/all/subject10 7.PNG', '/Users/ahood/Code/data_science_projects/projects/facial_recognition/faces/all/subject02 10.PNG', '/Users/ahood/Code/data_science_projects/projects/facial_recognition/faces/all/subject12 5.PNG', '/Users/ahood/Code/data_science_projects/projects/facial_recognition/faces/all/subject07 9.PNG', '/Users/ahood/Code/data_science_projects/projects/facial_recognition/faces/all/subject14 3.PNG', '/Users/ahood/Code/data_science_projects/projects/facial_recognition/faces/all/subject09 6.PNG', '/Users/ahood/Code/data_science_projects/projects/facial_recognition/faces/all/subject10 10.PNG', '/Users/ahood/Code/data_science_projects/projects/facial_recognition/faces/all/subject12.PNG', '/Users/ahood/Code/data_science_projects/projects/facial_recognition/faces/all/subject06.PNG', '/Users/ahood/Code/data_science_projects/projects/facial_recognition/faces/all/subject02.PNG', '/Users/ahood/Code/data_science_projects/projects/facial_recognition/faces/all/subject09 2.PNG', '/Users/ahood/Code/data_science_projects/projects/facial_recognition/faces/all/subject14 7.PNG', '/Users/ahood/Code/data_science_projects/projects/facial_recognition/faces/all/subject12 11.PNG', '/Users/ahood/Code/data_science_projects/projects/facial_recognition/faces/all/subject03 9.PNG', '/Users/ahood/Code/data_science_projects/projects/facial_recognition/faces/all/subject10 3.PNG', '/Users/ahood/Code/data_science_projects/projects/facial_recognition/faces/all/subject10 2.PNG', '/Users/ahood/Code/data_science_projects/projects/facial_recognition/faces/all/subject03 8.PNG', '/Users/ahood/Code/data_science_projects/projects/facial_recognition/faces/all/subject12 10.PNG', '/Users/ahood/Code/data_science_projects/projects/facial_recognition/faces/all/subject14 6.PNG', '/Users/ahood/Code/data_science_projects/projects/facial_recognition/faces/all/subject09 3.PNG', '/Users/ahood/Code/data_science_projects/projects/facial_recognition/faces/all/subject03.PNG', '/Users/ahood/Code/data_science_projects/projects/facial_recognition/faces/all/subject15.PNG', '/Users/ahood/Code/data_science_projects/projects/facial_recognition/faces/all/subject01.PNG', '/Users/ahood/Code/data_science_projects/projects/facial_recognition/faces/all/subject14 4.PNG', '/Users/ahood/Code/data_science_projects/projects/facial_recognition/faces/all/subject12 2.PNG', '/Users/ahood/Code/data_science_projects/projects/facial_recognition/faces/all/subject01 8.PNG', '/Users/ahood/Code/data_science_projects/projects/facial_recognition/faces/all/subject01 9.PNG', '/Users/ahood/Code/data_science_projects/projects/facial_recognition/faces/all/subject12 3.PNG', '/Users/ahood/Code/data_science_projects/projects/facial_recognition/faces/all/subject14 5.PNG', '/Users/ahood/Code/data_science_projects/projects/facial_recognition/faces/all/subject14.PNG', '/Users/ahood/Code/data_science_projects/projects/facial_recognition/faces/all/subject11 6.PNG', '/Users/ahood/Code/data_science_projects/projects/facial_recognition/faces/all/subject04 10.PNG', '/Users/ahood/Code/data_science_projects/projects/facial_recognition/faces/all/subject13 4.PNG', '/Users/ahood/Code/data_science_projects/projects/facial_recognition/faces/all/subject08 7.PNG', '/Users/ahood/Code/data_science_projects/projects/facial_recognition/faces/all/subject15 2.PNG', '/Users/ahood/Code/data_science_projects/projects/facial_recognition/faces/all/subject06 8.PNG', '/Users/ahood/Code/data_science_projects/projects/facial_recognition/faces/all/subject08 10.PNG', '/Users/ahood/Code/data_science_projects/projects/facial_recognition/faces/all/subject08 11.PNG', '/Users/ahood/Code/data_science_projects/projects/facial_recognition/faces/all/subject06 9.PNG', '/Users/ahood/Code/data_science_projects/projects/facial_recognition/faces/all/subject15 3.PNG', '/Users/ahood/Code/data_science_projects/projects/facial_recognition/faces/all/subject08 6.PNG', '/Users/ahood/Code/data_science_projects/projects/facial_recognition/faces/all/subject13 5.PNG', '/Users/ahood/Code/data_science_projects/projects/facial_recognition/faces/all/subject04 11.PNG', '/Users/ahood/Code/data_science_projects/projects/facial_recognition/faces/all/subject11 7.PNG', '/Users/ahood/Code/data_science_projects/projects/facial_recognition/faces/all/subject11 5.PNG', '/Users/ahood/Code/data_science_projects/projects/facial_recognition/faces/all/subject13 7.PNG', '/Users/ahood/Code/data_science_projects/projects/facial_recognition/faces/all/subject08 4.PNG', '/Users/ahood/Code/data_science_projects/projects/facial_recognition/faces/all/subject04 9.PNG', '/Users/ahood/Code/data_science_projects/projects/facial_recognition/faces/all/subject04 8.PNG', '/Users/ahood/Code/data_science_projects/projects/facial_recognition/faces/all/subject08 5.PNG', '/Users/ahood/Code/data_science_projects/projects/facial_recognition/faces/all/subject13 6.PNG', '/Users/ahood/Code/data_science_projects/projects/facial_recognition/faces/all/subject11 4.PNG', '/Users/ahood/Code/data_science_projects/projects/facial_recognition/faces/all/subject13 2.PNG', '/Users/ahood/Code/data_science_projects/projects/facial_recognition/faces/all/subject15 4.PNG', '/Users/ahood/Code/data_science_projects/projects/facial_recognition/faces/all/subject15 5.PNG', '/Users/ahood/Code/data_science_projects/projects/facial_recognition/faces/all/subject13 3.PNG', '/Users/ahood/Code/data_science_projects/projects/facial_recognition/faces/all/subject02 9.PNG', '/Users/ahood/Code/data_science_projects/projects/facial_recognition/faces/all/subject11 3.PNG', '/Users/ahood/Code/data_science_projects/projects/facial_recognition/faces/all/subject14 10.PNG', '/Users/ahood/Code/data_science_projects/projects/facial_recognition/faces/all/subject08 2.PNG', '/Users/ahood/Code/data_science_projects/projects/facial_recognition/faces/all/subject15 7.PNG', '/Users/ahood/Code/data_science_projects/projects/facial_recognition/faces/all/subject06 10.PNG', '/Users/ahood/Code/data_science_projects/projects/facial_recognition/faces/all/subject06 11.PNG', '/Users/ahood/Code/data_science_projects/projects/facial_recognition/faces/all/subject15 6.PNG', '/Users/ahood/Code/data_science_projects/projects/facial_recognition/faces/all/subject08 3.PNG', '/Users/ahood/Code/data_science_projects/projects/facial_recognition/faces/all/subject14 11.PNG', '/Users/ahood/Code/data_science_projects/projects/facial_recognition/faces/all/subject11 2.PNG', '/Users/ahood/Code/data_science_projects/projects/facial_recognition/faces/all/subject02 8.PNG']\n"
     ]
    }
   ],
   "metadata": {}
  },
  {
   "cell_type": "code",
   "execution_count": 38,
   "source": [
    "# Detecting faces\n",
    "\n",
    "face_locations = []\n",
    "number_of_faces = []\n",
    "top_pixels = []\n",
    "bottom_pixels = []\n",
    "right_pixels = []\n",
    "left_pixels = []\n",
    "face_images = []\n",
    "pil_images = []\n",
    "\n",
    "for f in list_of_files:\n",
    "\n",
    "    image = face_recognition.load_image_file(f)\n",
    "    face_locations_local = face_recognition.face_locations(image)\n",
    "    face_locations.append(face_locations_local)\n",
    "    number_of_faces_local = len(face_locations)\n",
    "    number_of_faces.append(number_of_faces_local)\n",
    "\n",
    "    for x in face_locations_local:\n",
    "        top_local, right_local, bottom_local, left_local = x\n",
    "        top_pixels.append(top_local)\n",
    "        right_pixels.append(right_local)\n",
    "        bottom_pixels.append(bottom_local)\n",
    "        left_pixels.append(left_local)\n",
    "    \n",
    "    face_image_local = image[top_local:bottom_local, left_local:right_local]\n",
    "    face_images.append(face_image_local)\n",
    "    pil_image_local = Image.fromarray(face_image_local)\n",
    "    pil_images.append(pil_image_local)\n",
    "\n",
    "\n",
    "for x in pil_images:\n",
    "    x.show()\n",
    "\n",
    "\n"
   ],
   "outputs": [],
   "metadata": {}
  }
 ],
 "metadata": {
  "orig_nbformat": 4,
  "language_info": {
   "name": "python",
   "version": "3.8.6",
   "mimetype": "text/x-python",
   "codemirror_mode": {
    "name": "ipython",
    "version": 3
   },
   "pygments_lexer": "ipython3",
   "nbconvert_exporter": "python",
   "file_extension": ".py"
  },
  "kernelspec": {
   "name": "python3",
   "display_name": "Python 3.8.6 64-bit"
  },
  "interpreter": {
   "hash": "aee8b7b246df8f9039afb4144a1f6fd8d2ca17a180786b69acc140d282b71a49"
  }
 },
 "nbformat": 4,
 "nbformat_minor": 2
}